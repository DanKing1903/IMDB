{
 "cells": [
  {
   "cell_type": "code",
   "execution_count": 36,
   "metadata": {},
   "outputs": [],
   "source": [
    "import tensorflow.keras as keras\n",
    "import pickle\n",
    "from pathlib import Path\n",
    "from src.utils.preprocessing import preprocess_text\n"
   ]
  },
  {
   "cell_type": "markdown",
   "metadata": {},
   "source": [
    "# Data Wrangling & Preprocessing\n",
    "Using src/utils/make_datasets.py, I have aggregated the text files into a pandas dataframe. X is the review text, and y is the sentiment, where 1 = positive and 0 = negative. The dataset has been split into training, validation and testing data (70%, 10%, 20% respectively). These have been serialized to a pickle file."
   ]
  },
  {
   "cell_type": "markdown",
   "metadata": {},
   "source": [
    "Load the data pickle:"
   ]
  },
  {
   "cell_type": "code",
   "execution_count": 18,
   "metadata": {},
   "outputs": [
    {
     "data": {
      "text/html": [
       "<div>\n",
       "<style scoped>\n",
       "    .dataframe tbody tr th:only-of-type {\n",
       "        vertical-align: middle;\n",
       "    }\n",
       "\n",
       "    .dataframe tbody tr th {\n",
       "        vertical-align: top;\n",
       "    }\n",
       "\n",
       "    .dataframe thead th {\n",
       "        text-align: right;\n",
       "    }\n",
       "</style>\n",
       "<table border=\"1\" class=\"dataframe\">\n",
       "  <thead>\n",
       "    <tr style=\"text-align: right;\">\n",
       "      <th></th>\n",
       "      <th>X</th>\n",
       "      <th>y</th>\n",
       "      <th>path</th>\n",
       "    </tr>\n",
       "  </thead>\n",
       "  <tbody>\n",
       "    <tr>\n",
       "      <th>27238</th>\n",
       "      <td>I was completely bored with this film, melodra...</td>\n",
       "      <td>0</td>\n",
       "      <td>aclImdb/test/neg/43_1.txt</td>\n",
       "    </tr>\n",
       "    <tr>\n",
       "      <th>32694</th>\n",
       "      <td>In yet another case of misleading marketing, t...</td>\n",
       "      <td>0</td>\n",
       "      <td>aclImdb/test/neg/11058_3.txt</td>\n",
       "    </tr>\n",
       "    <tr>\n",
       "      <th>32646</th>\n",
       "      <td>I went to see this movie to kill some time. I ...</td>\n",
       "      <td>0</td>\n",
       "      <td>aclImdb/test/neg/10826_4.txt</td>\n",
       "    </tr>\n",
       "    <tr>\n",
       "      <th>45158</th>\n",
       "      <td>I don't know what the rest of you guys watch S...</td>\n",
       "      <td>0</td>\n",
       "      <td>aclImdb/train/neg/7373_4.txt</td>\n",
       "    </tr>\n",
       "    <tr>\n",
       "      <th>8430</th>\n",
       "      <td>I recently was lucky enough to see \"The Kite R...</td>\n",
       "      <td>1</td>\n",
       "      <td>aclImdb/test/pos/4520_10.txt</td>\n",
       "    </tr>\n",
       "  </tbody>\n",
       "</table>\n",
       "</div>"
      ],
      "text/plain": [
       "                                                       X              ...                                       path\n",
       "27238  I was completely bored with this film, melodra...              ...                  aclImdb/test/neg/43_1.txt\n",
       "32694  In yet another case of misleading marketing, t...              ...               aclImdb/test/neg/11058_3.txt\n",
       "32646  I went to see this movie to kill some time. I ...              ...               aclImdb/test/neg/10826_4.txt\n",
       "45158  I don't know what the rest of you guys watch S...              ...               aclImdb/train/neg/7373_4.txt\n",
       "8430   I recently was lucky enough to see \"The Kite R...              ...               aclImdb/test/pos/4520_10.txt\n",
       "\n",
       "[5 rows x 3 columns]"
      ]
     },
     "execution_count": 18,
     "metadata": {},
     "output_type": "execute_result"
    }
   ],
   "source": [
    "with Path('./data/imdb.pickle').resolve().open('rb') as f:\n",
    "    train, val, test = pickle.load(f)\n",
    "train.head()"
   ]
  },
  {
   "cell_type": "markdown",
   "metadata": {},
   "source": [
    "Let's look at a review:"
   ]
  },
  {
   "cell_type": "code",
   "execution_count": 19,
   "metadata": {},
   "outputs": [
    {
     "data": {
      "text/plain": [
       "\"I've read that Paolo Sorrintino's inspiration for The Consequences of Love came from simply observing a businessman alone in a Brazilian hotel, and speculating what he might be doing there. The film unfolds to us in a similar way. We view the existence of Titta who has lived alone in a hotel in Switzerland for 8 years. He is secretive and avoids friendship. His life is dominated by order and regularly. Gradually, the truth of his existence is revealed to us until, finally, his world begins to fall apart.<br /><br />The mystery of Titta is central to The Consequences of Love and it works thanks in large part to the superb performance by Toni Servillo. His character becomes all the more intriguing to us as little details are revealed - that he injects heroin once a week, that he has no imagination. Although some here criticise the dialogue for not being naturalistic, that doesn't matter in my view - this is not that sort of film, and I think the script is great. The camera work is also excellent.<br /><br />If you have to criticise, the film does lose its way a in the later scenes as the mystery of Titta's existence is revealed to us, and as his world begins to fall apart. However, the tragic final scenes are every bit as good as the earlier build-up.\""
      ]
     },
     "execution_count": 19,
     "metadata": {},
     "output_type": "execute_result"
    }
   ],
   "source": [
    "train.X[1]\n"
   ]
  },
  {
   "cell_type": "markdown",
   "metadata": {},
   "source": [
    "This needs some pre-processing. We will remove code tags, expand contractions and remove punctuation."
   ]
  },
  {
   "cell_type": "code",
   "execution_count": 37,
   "metadata": {},
   "outputs": [],
   "source": [
    "for df in [train, val, test]:\n",
    "    df.X = df.X.apply(preprocess_text)"
   ]
  },
  {
   "cell_type": "code",
   "execution_count": 38,
   "metadata": {},
   "outputs": [
    {
     "data": {
      "text/plain": [
       "'never been kissed is a real feel good film if you have not seen it yet then rent it out i am going to buy it when its released because i loved it drew barrymore is excellent again she plays her part well i felt i could relate to this film because of the school days i had were just as bad i thought the plot was well written there was comedy and romance which are the type of films i love i loved the ending because even though you know what is going to happen it still leaves you sitting on the edge of your seat waiting  anticipating'"
      ]
     },
     "execution_count": 38,
     "metadata": {},
     "output_type": "execute_result"
    }
   ],
   "source": [
    "train.X[0]"
   ]
  },
  {
   "cell_type": "code",
   "execution_count": null,
   "metadata": {},
   "outputs": [],
   "source": []
  }
 ],
 "metadata": {
  "kernelspec": {
   "display_name": "Python (feedstock)",
   "language": "python",
   "name": "feedstock"
  },
  "language_info": {
   "codemirror_mode": {
    "name": "ipython",
    "version": 3
   },
   "file_extension": ".py",
   "mimetype": "text/x-python",
   "name": "python",
   "nbconvert_exporter": "python",
   "pygments_lexer": "ipython3",
   "version": "3.6.6"
  }
 },
 "nbformat": 4,
 "nbformat_minor": 2
}
