{
 "cells": [
  {
   "cell_type": "code",
   "execution_count": 1,
   "metadata": {},
   "outputs": [],
   "source": [
    "import tensorflow.keras as keras\n",
    "import pickle\n",
    "from pathlib import Path\n",
    "from src.utils.preprocessing import preprocess_text\n",
    "import matplotlib as mpl\n",
    "import matplotlib.pyplot as plt\n",
    "import seaborn as sns\n",
    "sns.set_style('darkgrid')\n",
    "\n",
    "from sklearn.feature_extraction.text import CountVectorizer\n",
    "import numpy as np\n",
    "import pandas as pd\n",
    "%load_ext autoreload\n",
    "%autoreload 2"
   ]
  },
  {
   "cell_type": "markdown",
   "metadata": {},
   "source": [
    "# Data Wrangling & Preprocessing\n",
    "src/utils/make_datasets.py has been used to wrangle and preprocess the data.\n",
    "\n",
    "It reads in raw text files, then applies 4 preprocessing steps to the data:\n",
    "1. All text to lowercase\n",
    "2. Remove html tags (<br/\\> etc.)\n",
    "3. Expand contractions (isn't > is not etc.)\n",
    "4. Remove punctuation\n",
    "\n",
    "This data is stored in a pandas dataframe. X is the review text, and y is the sentiment, where 1 = positive and 0 = negative. The data has been serialized to a pickle file."
   ]
  },
  {
   "cell_type": "markdown",
   "metadata": {},
   "source": [
    "# Exploratory Data Analysis\n",
    "\n",
    "Load or make the data pickle:"
   ]
  },
  {
   "cell_type": "code",
   "execution_count": 2,
   "metadata": {},
   "outputs": [
    {
     "name": "stdout",
     "output_type": "stream",
     "text": [
      "Data pickle found\n"
     ]
    },
    {
     "data": {
      "text/html": [
       "<div>\n",
       "<style scoped>\n",
       "    .dataframe tbody tr th:only-of-type {\n",
       "        vertical-align: middle;\n",
       "    }\n",
       "\n",
       "    .dataframe tbody tr th {\n",
       "        vertical-align: top;\n",
       "    }\n",
       "\n",
       "    .dataframe thead th {\n",
       "        text-align: right;\n",
       "    }\n",
       "</style>\n",
       "<table border=\"1\" class=\"dataframe\">\n",
       "  <thead>\n",
       "    <tr style=\"text-align: right;\">\n",
       "      <th></th>\n",
       "      <th>doc</th>\n",
       "      <th>sentiment</th>\n",
       "    </tr>\n",
       "  </thead>\n",
       "  <tbody>\n",
       "    <tr>\n",
       "      <th>0</th>\n",
       "      <td>several young iranian women dress as boys and ...</td>\n",
       "      <td>1</td>\n",
       "    </tr>\n",
       "    <tr>\n",
       "      <th>1</th>\n",
       "      <td>and all through the house is a special crypt e...</td>\n",
       "      <td>1</td>\n",
       "    </tr>\n",
       "    <tr>\n",
       "      <th>2</th>\n",
       "      <td>gespenster 2005 forms together with yella 2007...</td>\n",
       "      <td>1</td>\n",
       "    </tr>\n",
       "    <tr>\n",
       "      <th>3</th>\n",
       "      <td>culled from the real life exploits of chuck co...</td>\n",
       "      <td>1</td>\n",
       "    </tr>\n",
       "    <tr>\n",
       "      <th>4</th>\n",
       "      <td>the haunted world of edward d wood jr is not a...</td>\n",
       "      <td>1</td>\n",
       "    </tr>\n",
       "  </tbody>\n",
       "</table>\n",
       "</div>"
      ],
      "text/plain": [
       "                                                 doc  sentiment\n",
       "0  several young iranian women dress as boys and ...          1\n",
       "1  and all through the house is a special crypt e...          1\n",
       "2  gespenster 2005 forms together with yella 2007...          1\n",
       "3  culled from the real life exploits of chuck co...          1\n",
       "4  the haunted world of edward d wood jr is not a...          1"
      ]
     },
     "execution_count": 2,
     "metadata": {},
     "output_type": "execute_result"
    }
   ],
   "source": [
    "path = Path('./data/imdb.pickle').resolve()\n",
    "\n",
    "if not path.exists():\n",
    "    print(\"Creating & pickling data\")\n",
    "    from src.utils.make_datasets import make_data_pickle\n",
    "    make_data_pickle(toy_dataset=True)\n",
    "    \n",
    "else:\n",
    "    print(\"Data pickle found\")\n",
    "    with path.open('rb') as f:\n",
    "        data = pickle.load(f)\n",
    "data.head()"
   ]
  },
  {
   "cell_type": "markdown",
   "metadata": {},
   "source": [
    "Check for duplicates (duplicated values may result in training data leaking into test set):"
   ]
  },
  {
   "cell_type": "code",
   "execution_count": 3,
   "metadata": {},
   "outputs": [
    {
     "data": {
      "text/html": [
       "<div>\n",
       "<style scoped>\n",
       "    .dataframe tbody tr th:only-of-type {\n",
       "        vertical-align: middle;\n",
       "    }\n",
       "\n",
       "    .dataframe tbody tr th {\n",
       "        vertical-align: top;\n",
       "    }\n",
       "\n",
       "    .dataframe thead th {\n",
       "        text-align: right;\n",
       "    }\n",
       "</style>\n",
       "<table border=\"1\" class=\"dataframe\">\n",
       "  <thead>\n",
       "    <tr style=\"text-align: right;\">\n",
       "      <th></th>\n",
       "      <th>doc</th>\n",
       "      <th>sentiment</th>\n",
       "    </tr>\n",
       "  </thead>\n",
       "  <tbody>\n",
       "    <tr>\n",
       "      <th>209</th>\n",
       "      <td>as a low budget enterprise in which the filmma...</td>\n",
       "      <td>1</td>\n",
       "    </tr>\n",
       "    <tr>\n",
       "      <th>269</th>\n",
       "      <td>this movie surprised me some things were clich...</td>\n",
       "      <td>1</td>\n",
       "    </tr>\n",
       "    <tr>\n",
       "      <th>305</th>\n",
       "      <td>red skelton was still another major star who m...</td>\n",
       "      <td>1</td>\n",
       "    </tr>\n",
       "    <tr>\n",
       "      <th>434</th>\n",
       "      <td>i really enjoyed this movie the script is fres...</td>\n",
       "      <td>1</td>\n",
       "    </tr>\n",
       "    <tr>\n",
       "      <th>507</th>\n",
       "      <td>bette midler is indescribable in this concert ...</td>\n",
       "      <td>1</td>\n",
       "    </tr>\n",
       "    <tr>\n",
       "      <th>532</th>\n",
       "      <td>bette midler showcases her talents and beauty ...</td>\n",
       "      <td>1</td>\n",
       "    </tr>\n",
       "    <tr>\n",
       "      <th>644</th>\n",
       "      <td>if you want scream or anything like the big st...</td>\n",
       "      <td>1</td>\n",
       "    </tr>\n",
       "    <tr>\n",
       "      <th>752</th>\n",
       "      <td>red skelton was still another major star who m...</td>\n",
       "      <td>1</td>\n",
       "    </tr>\n",
       "    <tr>\n",
       "      <th>952</th>\n",
       "      <td>this is the only full length feature film abou...</td>\n",
       "      <td>1</td>\n",
       "    </tr>\n",
       "    <tr>\n",
       "      <th>1160</th>\n",
       "      <td>love it love it love it this is another absolu...</td>\n",
       "      <td>1</td>\n",
       "    </tr>\n",
       "    <tr>\n",
       "      <th>1196</th>\n",
       "      <td>during a kurt weill celebration in brooklyn wh...</td>\n",
       "      <td>1</td>\n",
       "    </tr>\n",
       "    <tr>\n",
       "      <th>1597</th>\n",
       "      <td>this movie surprised me some things were clich...</td>\n",
       "      <td>1</td>\n",
       "    </tr>\n",
       "    <tr>\n",
       "      <th>1682</th>\n",
       "      <td></td>\n",
       "      <td>1</td>\n",
       "    </tr>\n",
       "    <tr>\n",
       "      <th>2397</th>\n",
       "      <td>i am gonna tip the scales here a bit and say i...</td>\n",
       "      <td>1</td>\n",
       "    </tr>\n",
       "    <tr>\n",
       "      <th>2502</th>\n",
       "      <td>bette midler is again divine raunchily humorou...</td>\n",
       "      <td>1</td>\n",
       "    </tr>\n",
       "    <tr>\n",
       "      <th>2623</th>\n",
       "      <td>love it love it love it this is another absolu...</td>\n",
       "      <td>1</td>\n",
       "    </tr>\n",
       "    <tr>\n",
       "      <th>2662</th>\n",
       "      <td>dear readers signed the constant dvd collector</td>\n",
       "      <td>1</td>\n",
       "    </tr>\n",
       "    <tr>\n",
       "      <th>2790</th>\n",
       "      <td>this is the only full length feature film abou...</td>\n",
       "      <td>1</td>\n",
       "    </tr>\n",
       "    <tr>\n",
       "      <th>3702</th>\n",
       "      <td>i am gonna tip the scales here a bit and say i...</td>\n",
       "      <td>1</td>\n",
       "    </tr>\n",
       "    <tr>\n",
       "      <th>3741</th>\n",
       "      <td>one of disneys best films that i can enjoy wat...</td>\n",
       "      <td>1</td>\n",
       "    </tr>\n",
       "    <tr>\n",
       "      <th>3748</th>\n",
       "      <td>how tasty was my little frenchman tells a stor...</td>\n",
       "      <td>1</td>\n",
       "    </tr>\n",
       "    <tr>\n",
       "      <th>3785</th>\n",
       "      <td>i used to watch this show when i was a little ...</td>\n",
       "      <td>1</td>\n",
       "    </tr>\n",
       "    <tr>\n",
       "      <th>3887</th>\n",
       "      <td>i enjoyed watching this well acted movie very ...</td>\n",
       "      <td>1</td>\n",
       "    </tr>\n",
       "    <tr>\n",
       "      <th>3995</th>\n",
       "      <td>bette midler is again divine raunchily humorou...</td>\n",
       "      <td>1</td>\n",
       "    </tr>\n",
       "    <tr>\n",
       "      <th>4039</th>\n",
       "      <td>beautiful film pure cassavetes style gena rowl...</td>\n",
       "      <td>1</td>\n",
       "    </tr>\n",
       "    <tr>\n",
       "      <th>4266</th>\n",
       "      <td>while there are not any talking animals big la...</td>\n",
       "      <td>1</td>\n",
       "    </tr>\n",
       "    <tr>\n",
       "      <th>4300</th>\n",
       "      <td>smallville episode justice is the best episode...</td>\n",
       "      <td>1</td>\n",
       "    </tr>\n",
       "    <tr>\n",
       "      <th>4520</th>\n",
       "      <td>the scenes are fast paced the characters are g...</td>\n",
       "      <td>1</td>\n",
       "    </tr>\n",
       "    <tr>\n",
       "      <th>4620</th>\n",
       "      <td></td>\n",
       "      <td>1</td>\n",
       "    </tr>\n",
       "    <tr>\n",
       "      <th>4993</th>\n",
       "      <td>wow so much fun probably a bit much for normal...</td>\n",
       "      <td>1</td>\n",
       "    </tr>\n",
       "    <tr>\n",
       "      <th>...</th>\n",
       "      <td>...</td>\n",
       "      <td>...</td>\n",
       "    </tr>\n",
       "    <tr>\n",
       "      <th>22324</th>\n",
       "      <td>i was one of those few americans that grew up ...</td>\n",
       "      <td>0</td>\n",
       "    </tr>\n",
       "    <tr>\n",
       "      <th>22424</th>\n",
       "      <td>i feel like i have just watched a snuff film a...</td>\n",
       "      <td>0</td>\n",
       "    </tr>\n",
       "    <tr>\n",
       "      <th>22460</th>\n",
       "      <td>i feel like i have just watched a snuff film a...</td>\n",
       "      <td>0</td>\n",
       "    </tr>\n",
       "    <tr>\n",
       "      <th>22510</th>\n",
       "      <td>i sat through almost one episode of this serie...</td>\n",
       "      <td>0</td>\n",
       "    </tr>\n",
       "    <tr>\n",
       "      <th>22513</th>\n",
       "      <td>wow here it finally is the action movie withou...</td>\n",
       "      <td>0</td>\n",
       "    </tr>\n",
       "    <tr>\n",
       "      <th>22781</th>\n",
       "      <td>do we really need any more narcissistic garbag...</td>\n",
       "      <td>0</td>\n",
       "    </tr>\n",
       "    <tr>\n",
       "      <th>22795</th>\n",
       "      <td>in this movie joe pesci slams dunks a basketba...</td>\n",
       "      <td>0</td>\n",
       "    </tr>\n",
       "    <tr>\n",
       "      <th>23009</th>\n",
       "      <td>even if you could get past the idea that these...</td>\n",
       "      <td>0</td>\n",
       "    </tr>\n",
       "    <tr>\n",
       "      <th>23057</th>\n",
       "      <td>dead letter office is a low budget film about ...</td>\n",
       "      <td>0</td>\n",
       "    </tr>\n",
       "    <tr>\n",
       "      <th>23132</th>\n",
       "      <td>i saw this in the summer of 1990 i am still an...</td>\n",
       "      <td>0</td>\n",
       "    </tr>\n",
       "    <tr>\n",
       "      <th>23474</th>\n",
       "      <td>awful simply awful it proves my theory about s...</td>\n",
       "      <td>0</td>\n",
       "    </tr>\n",
       "    <tr>\n",
       "      <th>23509</th>\n",
       "      <td>you do realize that you have been watching the...</td>\n",
       "      <td>0</td>\n",
       "    </tr>\n",
       "    <tr>\n",
       "      <th>23557</th>\n",
       "      <td>this movie got off to an interesting start dow...</td>\n",
       "      <td>0</td>\n",
       "    </tr>\n",
       "    <tr>\n",
       "      <th>23594</th>\n",
       "      <td>this insipid mini operetta featuring a eddy mc...</td>\n",
       "      <td>0</td>\n",
       "    </tr>\n",
       "    <tr>\n",
       "      <th>23612</th>\n",
       "      <td>dumb is as dumb does in this thoroughly uninte...</td>\n",
       "      <td>0</td>\n",
       "    </tr>\n",
       "    <tr>\n",
       "      <th>23703</th>\n",
       "      <td>i saw this movie twice i cannot believe pintil...</td>\n",
       "      <td>0</td>\n",
       "    </tr>\n",
       "    <tr>\n",
       "      <th>23835</th>\n",
       "      <td>somehow they summed up the 60s ten years that ...</td>\n",
       "      <td>0</td>\n",
       "    </tr>\n",
       "    <tr>\n",
       "      <th>23965</th>\n",
       "      <td>corridors of time the movie you can watch if y...</td>\n",
       "      <td>0</td>\n",
       "    </tr>\n",
       "    <tr>\n",
       "      <th>23969</th>\n",
       "      <td>somehow they summed up the 60s ten years that ...</td>\n",
       "      <td>0</td>\n",
       "    </tr>\n",
       "    <tr>\n",
       "      <th>24109</th>\n",
       "      <td>you know all those letters to father christmas...</td>\n",
       "      <td>0</td>\n",
       "    </tr>\n",
       "    <tr>\n",
       "      <th>24163</th>\n",
       "      <td>this movie is a disgrace to the major league f...</td>\n",
       "      <td>0</td>\n",
       "    </tr>\n",
       "    <tr>\n",
       "      <th>24367</th>\n",
       "      <td>this movie had a imdb rating of 8 1 so i expec...</td>\n",
       "      <td>0</td>\n",
       "    </tr>\n",
       "    <tr>\n",
       "      <th>24427</th>\n",
       "      <td>wow here it finally is the action movie withou...</td>\n",
       "      <td>0</td>\n",
       "    </tr>\n",
       "    <tr>\n",
       "      <th>24443</th>\n",
       "      <td>it is very sad that lucian pintilie does not s...</td>\n",
       "      <td>0</td>\n",
       "    </tr>\n",
       "    <tr>\n",
       "      <th>24490</th>\n",
       "      <td>how has this piece of crap stayed on tv this l...</td>\n",
       "      <td>0</td>\n",
       "    </tr>\n",
       "    <tr>\n",
       "      <th>24503</th>\n",
       "      <td></td>\n",
       "      <td>0</td>\n",
       "    </tr>\n",
       "    <tr>\n",
       "      <th>24854</th>\n",
       "      <td>oh god what an idiotic movie incredibly cheap ...</td>\n",
       "      <td>0</td>\n",
       "    </tr>\n",
       "    <tr>\n",
       "      <th>24883</th>\n",
       "      <td>this movie begins with an ordinary funeral and...</td>\n",
       "      <td>0</td>\n",
       "    </tr>\n",
       "    <tr>\n",
       "      <th>24932</th>\n",
       "      <td>it is very sad that lucian pintilie does not s...</td>\n",
       "      <td>0</td>\n",
       "    </tr>\n",
       "    <tr>\n",
       "      <th>24936</th>\n",
       "      <td>you do realize that you have been watching the...</td>\n",
       "      <td>0</td>\n",
       "    </tr>\n",
       "  </tbody>\n",
       "</table>\n",
       "<p>212 rows × 2 columns</p>\n",
       "</div>"
      ],
      "text/plain": [
       "                                                     doc  sentiment\n",
       "209    as a low budget enterprise in which the filmma...          1\n",
       "269    this movie surprised me some things were clich...          1\n",
       "305    red skelton was still another major star who m...          1\n",
       "434    i really enjoyed this movie the script is fres...          1\n",
       "507    bette midler is indescribable in this concert ...          1\n",
       "532    bette midler showcases her talents and beauty ...          1\n",
       "644    if you want scream or anything like the big st...          1\n",
       "752    red skelton was still another major star who m...          1\n",
       "952    this is the only full length feature film abou...          1\n",
       "1160   love it love it love it this is another absolu...          1\n",
       "1196   during a kurt weill celebration in brooklyn wh...          1\n",
       "1597   this movie surprised me some things were clich...          1\n",
       "1682                                                              1\n",
       "2397   i am gonna tip the scales here a bit and say i...          1\n",
       "2502   bette midler is again divine raunchily humorou...          1\n",
       "2623   love it love it love it this is another absolu...          1\n",
       "2662      dear readers signed the constant dvd collector          1\n",
       "2790   this is the only full length feature film abou...          1\n",
       "3702   i am gonna tip the scales here a bit and say i...          1\n",
       "3741   one of disneys best films that i can enjoy wat...          1\n",
       "3748   how tasty was my little frenchman tells a stor...          1\n",
       "3785   i used to watch this show when i was a little ...          1\n",
       "3887   i enjoyed watching this well acted movie very ...          1\n",
       "3995   bette midler is again divine raunchily humorou...          1\n",
       "4039   beautiful film pure cassavetes style gena rowl...          1\n",
       "4266   while there are not any talking animals big la...          1\n",
       "4300   smallville episode justice is the best episode...          1\n",
       "4520   the scenes are fast paced the characters are g...          1\n",
       "4620                                                              1\n",
       "4993   wow so much fun probably a bit much for normal...          1\n",
       "...                                                  ...        ...\n",
       "22324  i was one of those few americans that grew up ...          0\n",
       "22424  i feel like i have just watched a snuff film a...          0\n",
       "22460  i feel like i have just watched a snuff film a...          0\n",
       "22510  i sat through almost one episode of this serie...          0\n",
       "22513  wow here it finally is the action movie withou...          0\n",
       "22781  do we really need any more narcissistic garbag...          0\n",
       "22795  in this movie joe pesci slams dunks a basketba...          0\n",
       "23009  even if you could get past the idea that these...          0\n",
       "23057  dead letter office is a low budget film about ...          0\n",
       "23132  i saw this in the summer of 1990 i am still an...          0\n",
       "23474  awful simply awful it proves my theory about s...          0\n",
       "23509  you do realize that you have been watching the...          0\n",
       "23557  this movie got off to an interesting start dow...          0\n",
       "23594  this insipid mini operetta featuring a eddy mc...          0\n",
       "23612  dumb is as dumb does in this thoroughly uninte...          0\n",
       "23703  i saw this movie twice i cannot believe pintil...          0\n",
       "23835  somehow they summed up the 60s ten years that ...          0\n",
       "23965  corridors of time the movie you can watch if y...          0\n",
       "23969  somehow they summed up the 60s ten years that ...          0\n",
       "24109  you know all those letters to father christmas...          0\n",
       "24163  this movie is a disgrace to the major league f...          0\n",
       "24367  this movie had a imdb rating of 8 1 so i expec...          0\n",
       "24427  wow here it finally is the action movie withou...          0\n",
       "24443  it is very sad that lucian pintilie does not s...          0\n",
       "24490  how has this piece of crap stayed on tv this l...          0\n",
       "24503                                                             0\n",
       "24854  oh god what an idiotic movie incredibly cheap ...          0\n",
       "24883  this movie begins with an ordinary funeral and...          0\n",
       "24932  it is very sad that lucian pintilie does not s...          0\n",
       "24936  you do realize that you have been watching the...          0\n",
       "\n",
       "[212 rows x 2 columns]"
      ]
     },
     "execution_count": 3,
     "metadata": {},
     "output_type": "execute_result"
    }
   ],
   "source": [
    "data[data.duplicated(subset='doc', keep=False)]"
   ]
  },
  {
   "cell_type": "code",
   "execution_count": 4,
   "metadata": {},
   "outputs": [],
   "source": [
    "data = data.drop_duplicates('doc')"
   ]
  },
  {
   "cell_type": "markdown",
   "metadata": {},
   "source": [
    "Check for any missing data:"
   ]
  },
  {
   "cell_type": "code",
   "execution_count": 5,
   "metadata": {},
   "outputs": [
    {
     "data": {
      "text/plain": [
       "False"
      ]
     },
     "execution_count": 5,
     "metadata": {},
     "output_type": "execute_result"
    }
   ],
   "source": [
    "data['doc'].isnull().any()"
   ]
  },
  {
   "cell_type": "markdown",
   "metadata": {},
   "source": [
    "Now let's have a look at some information about the dataset:"
   ]
  },
  {
   "cell_type": "code",
   "execution_count": 6,
   "metadata": {},
   "outputs": [
    {
     "name": "stdout",
     "output_type": "stream",
     "text": [
      "Dataset y distribution\n",
      "1    12465\n",
      "0    12424\n",
      "Name: sentiment, dtype: int64\n"
     ]
    }
   ],
   "source": [
    "print(\"Dataset y distribution\")\n",
    "print(data.sentiment.value_counts())\n",
    "\n"
   ]
  },
  {
   "cell_type": "markdown",
   "metadata": {},
   "source": [
    "We can see the data is evenly distibuted -  there is no skew or bias with respect to y value."
   ]
  },
  {
   "cell_type": "markdown",
   "metadata": {},
   "source": [
    "Let's look at a review:"
   ]
  },
  {
   "cell_type": "code",
   "execution_count": 7,
   "metadata": {},
   "outputs": [
    {
     "name": "stdout",
     "output_type": "stream",
     "text": [
      "several young iranian women dress as boys and try to get into a world cup qualifying match between iran and bahrain when they are caught they are penned in an area where the match remains within earshot but out of sight the prisoners plead to be let go but rules are rules what makes offside most affecting is that the young women are not portrayed as activists attacking the system they are simply soccer fans and patriots and despite the fact that they are clearly being treated unfairly they never lose their focus on the match and the historic victory that is within their nations grasp\n"
     ]
    }
   ],
   "source": [
    "print(data.doc[0])"
   ]
  },
  {
   "cell_type": "code",
   "execution_count": 8,
   "metadata": {},
   "outputs": [
    {
     "name": "stdout",
     "output_type": "stream",
     "text": [
      "139\n"
     ]
    },
    {
     "data": {
      "image/png": "[encoded data removed]",
      "text/plain": [
       "<Figure size 432x288 with 1 Axes>"
      ]
     },
     "metadata": {},
     "output_type": "display_data"
    }
   ],
   "source": [
    "lengths = data.doc.apply(lambda x: len(x.split()))\n",
    "sns.distplot(lengths, kde=False)\n",
    "mean_length = np.mean(lengths)\n",
    "print(\"{:.0f}\".format(mean_length))"
   ]
  },
  {
   "cell_type": "markdown",
   "metadata": {},
   "source": [
    "The majority of reviews appear to be around 250 words or less. "
   ]
  },
  {
   "cell_type": "code",
   "execution_count": 9,
   "metadata": {},
   "outputs": [
    {
     "name": "stdout",
     "output_type": "stream",
     "text": [
      "Top 20 unigrams\n",
      "vocabulary size: 62149\n"
     ]
    },
    {
     "data": {
      "image/png": "[encoded data removed]",
      "text/plain": [
       "<Figure size 432x288 with 1 Axes>"
      ]
     },
     "metadata": {},
     "output_type": "display_data"
    }
   ],
   "source": [
    "def word_distribution(text, ngram_range=(1,1)):\n",
    "    cv = CountVectorizer(ngram_range=ngram_range, stop_words='english')\n",
    "    count_matrix = cv.fit_transform(text)\n",
    "    token_sums = np.sum(count_matrix, axis = 0).A1\n",
    "    vocab = cv.get_feature_names()\n",
    "    print(\"vocabulary size: {}\".format(len(vocab)))\n",
    "    dist = zip(vocab, token_sums.tolist())\n",
    "    dist = sorted(dist, key=lambda x: x[1], reverse=True)[0:20]\n",
    "    x,y = zip(*dist)\n",
    "    data = pd.DataFrame({'token':x,'count':y})\n",
    "    sns.barplot(x='count',y='token', data= data, palette=sns.color_palette('Blues', n_colors=1))\n",
    "    \n",
    "\n",
    "print(\"Top 20 unigrams\")\n",
    "unigrams = word_distribution(data.doc)\n"
   ]
  },
  {
   "cell_type": "code",
   "execution_count": 10,
   "metadata": {},
   "outputs": [
    {
     "name": "stdout",
     "output_type": "stream",
     "text": [
      "Top 20 unigrams\n",
      "vocabulary size: 1021692\n"
     ]
    },
    {
     "data": {
      "image/png": "[encoded data removed]",
      "text/plain": [
       "<Figure size 432x288 with 1 Axes>"
      ]
     },
     "metadata": {},
     "output_type": "display_data"
    }
   ],
   "source": [
    "print(\"Top 20 unigrams\")\n",
    "bigrams = word_distribution(data.doc, ngram_range=(2,2))"
   ]
  },
  {
   "cell_type": "code",
   "execution_count": 11,
   "metadata": {
    "scrolled": true
   },
   "outputs": [
    {
     "name": "stdout",
     "output_type": "stream",
     "text": [
      "Top 20 unigrams\n",
      "vocabulary size: 1447514\n"
     ]
    },
    {
     "data": {
      "image/png": "[encoded data removed]",
      "text/plain": [
       "<Figure size 432x288 with 1 Axes>"
      ]
     },
     "metadata": {},
     "output_type": "display_data"
    }
   ],
   "source": [
    "print(\"Top 20 unigrams\")\n",
    "trigrams = word_distribution(data.doc, ngram_range=(3,3))"
   ]
  },
  {
   "cell_type": "markdown",
   "metadata": {},
   "source": [
    "The task is sentiment analysis so we will need to perform sequence classification. This means we should use a recurrent neural network. However, traditional neural networks do not handle long range dependencies very well. Since the movie reviews are up to 700 words long and on average 139 words long we will need to use an LSTM. LSTM's have an internal \"memory\" so they can find long range dependencies in sequences. \n",
    "\n",
    "To put together an LSTM first we need some word embeddings to represent words. We will download and unzip embeddings, if they are not present. We will use embeddings of dimensionality 50 to keep the model simple and minimise memory usage."
   ]
  },
  {
   "cell_type": "code",
   "execution_count": 12,
   "metadata": {},
   "outputs": [
    {
     "name": "stdout",
     "output_type": "stream",
     "text": [
      "destination: /home/dan/IMDB/data/glove.6B.zip\n",
      "file found\n",
      "embeddings found\n"
     ]
    }
   ],
   "source": [
    "\n",
    "import zipfile\n",
    "\n",
    "embedding_path = download_if_missing('https://nlp.stanford.edu/data/glove.6B.zip', 'data/glove.6B.zip')\n",
    "if not Path('data/glove.6B.50d.txt').resolve().exists():\n",
    "    print(\"unzipping file\")\n",
    "    zipfile.ZipFile(Path('data/glove.6B.zip').resolve()).extract('glove.6B.50d.txt', path=Path('data').resolve())\n",
    "else:\n",
    "    print(\"embeddings found\")"
   ]
  },
  {
   "cell_type": "markdown",
   "metadata": {},
   "source": [
    "The full code for compiling and training the model is found in src/models/LSTM.py. The model has 3 components: The embedding layer (dimensionality 50), the LSTM layer (dimensionality 100), and the output layer (Dimensionality 1). The loss function is binary cross entropy, and the optimizer is the adam optimizer with default hyperparameters. The data is split into 70% training data, 10% validation data and 20% validation data. To help prevent overfitting, early stopping is used to halt training of the model when validation loss starts to increase. Reviews are padded/truncated to 250 words, primarily for performance reasons."
   ]
  },
  {
   "cell_type": "code",
   "execution_count": 13,
   "metadata": {},
   "outputs": [
    {
     "name": "stdout",
     "output_type": "stream",
     "text": [
      "Loaded 400000 embeddings\n",
      "_________________________________________________________________\n",
      "Layer (type)                 Output Shape              Param #   \n",
      "=================================================================\n",
      "embedding (Embedding)        (None, None, 50)          2583500   \n",
      "_________________________________________________________________\n",
      "lstm (LSTM)                  (None, 100)               60400     \n",
      "_________________________________________________________________\n",
      "dense (Dense)                (None, 1)                 101       \n",
      "=================================================================\n",
      "Total params: 2,644,001\n",
      "Trainable params: 60,501\n",
      "Non-trainable params: 2,583,500\n",
      "_________________________________________________________________\n",
      "None\n",
      "Train on 16000 samples, validate on 4000 samples\n",
      "Epoch 1/100\n",
      "16000/16000 [==============================] - 82s 5ms/step - loss: 0.6021 - acc: 0.6743 - val_loss: 1.1497 - val_acc: 0.5018\n",
      "Epoch 2/100\n",
      "16000/16000 [==============================] - 79s 5ms/step - loss: 0.6583 - acc: 0.6186 - val_loss: 0.6185 - val_acc: 0.6512\n",
      "Epoch 3/100\n",
      "16000/16000 [==============================] - 75s 5ms/step - loss: 0.5052 - acc: 0.7587 - val_loss: 0.4780 - val_acc: 0.7720\n",
      "Epoch 4/100\n",
      "16000/16000 [==============================] - 75s 5ms/step - loss: 0.4566 - acc: 0.7826 - val_loss: 0.4402 - val_acc: 0.7970\n",
      "Epoch 5/100\n",
      "16000/16000 [==============================] - 74s 5ms/step - loss: 0.4304 - acc: 0.7999 - val_loss: 0.4249 - val_acc: 0.8055\n",
      "Epoch 6/100\n",
      "16000/16000 [==============================] - 74s 5ms/step - loss: 0.4167 - acc: 0.8064 - val_loss: 0.4177 - val_acc: 0.8067\n",
      "Epoch 7/100\n",
      "16000/16000 [==============================] - 73s 5ms/step - loss: 0.4047 - acc: 0.8158 - val_loss: 0.4107 - val_acc: 0.8110\n",
      "Epoch 8/100\n",
      "16000/16000 [==============================] - 74s 5ms/step - loss: 0.3917 - acc: 0.8239 - val_loss: 0.4079 - val_acc: 0.8103\n",
      "Epoch 9/100\n",
      "16000/16000 [==============================] - 74s 5ms/step - loss: 0.3872 - acc: 0.8239 - val_loss: 0.4014 - val_acc: 0.8137\n",
      "Epoch 10/100\n",
      "16000/16000 [==============================] - 74s 5ms/step - loss: 0.3691 - acc: 0.8369 - val_loss: 0.3989 - val_acc: 0.8153\n",
      "Epoch 11/100\n",
      "16000/16000 [==============================] - 74s 5ms/step - loss: 0.3570 - acc: 0.8436 - val_loss: 0.4031 - val_acc: 0.8107\n",
      "\n",
      "Test on 5000 samples\n",
      "accuracy: 0.7986\n",
      "f1_macro: 0.7975446325624067\n",
      "f1_None: [0.78292736 0.81216191]\n"
     ]
    }
   ],
   "source": [
    "from src.models import LSTM\n",
    "\n",
    "history, y_test, y_pred = LSTM.train_model()\n"
   ]
  },
  {
   "cell_type": "code",
   "execution_count": 15,
   "metadata": {},
   "outputs": [
    {
     "data": {
      "text/plain": [
       "<matplotlib.legend.Legend at 0x7f2124037390>"
      ]
     },
     "execution_count": 15,
     "metadata": {},
     "output_type": "execute_result"
    },
    {
     "data": {
      "image/png": "[encoded data removed]",
      "text/plain": [
       "<Figure size 1008x432 with 2 Axes>"
      ]
     },
     "metadata": {},
     "output_type": "display_data"
    }
   ],
   "source": [
    "fig, ax = plt.subplots(1, 2, figsize=(14,6))\n",
    "\n",
    "ax[0].plot(history.history['loss'], label='Training set', color='xkcd:turquoise blue', ls='--' )\n",
    "ax[0].plot(history.history['val_loss'], label='Validation set', color='xkcd:orange', ls='--')\n",
    "ax[0].set_xlabel('Epochs')\n",
    "ax[0].set_ylabel('Loss')\n",
    "ax[0].legend()\n",
    "\n",
    "ax[1].plot(history.history['acc'], label='Training set', color='xkcd:turquoise blue', ls='--')\n",
    "ax[1].plot(history.history['val_acc'], label='Validation set', color='xkcd:orange', ls='--')\n",
    "ax[1].set_xlabel('Epochs')\n",
    "ax[1].set_ylabel('Accuracy')\n",
    "ax[1].legend()"
   ]
  },
  {
   "cell_type": "markdown",
   "metadata": {},
   "source": [
    "Above are learning curves for loss and accuracy. We can see that the model is still overfitting the training data slightly; with training, validation and testing accuracies of 0.84, 0.81 and 0.80 respectively. For an ideal model these would be equal."
   ]
  },
  {
   "cell_type": "code",
   "execution_count": 40,
   "metadata": {},
   "outputs": [
    {
     "data": {
      "text/plain": [
       "Text(33,0.5,'Predicted Sentiment')"
      ]
     },
     "execution_count": 40,
     "metadata": {},
     "output_type": "execute_result"
    },
    {
     "data": {
      "image/png": "[encoded data removed]",
      "text/plain": [
       "<Figure size 432x288 with 2 Axes>"
      ]
     },
     "metadata": {},
     "output_type": "display_data"
    }
   ],
   "source": [
    "from sklearn.metrics import confusion_matrix\n",
    "conf_matrix = confusion_matrix(y_test, y_pred)\n",
    "fig, ax = plt.subplots()\n",
    "sns.heatmap(conf_matrix, cmap=plt.cm.Blues, annot=True, fmt='g',ax=ax, xticklabels=['Negative', 'Positive'], yticklabels=['Negative','Positive'])\n",
    "ax.axes.set_xlabel('Actual Sentiment')\n",
    "ax.axes.set_ylabel('Predicted Sentiment')"
   ]
  },
  {
   "cell_type": "markdown",
   "metadata": {},
   "source": [
    "From the confusion matrix we can see that the model is better at classifying positive reviews than negative reviews. However overall we have acheived a pretty good model for classifying sentiment in movie reviews."
   ]
  },
  {
   "cell_type": "markdown",
   "metadata": {},
   "source": [
    "Future work:\n",
    "\n",
    "    1. Investigate other embedding systems (word2vec, fastText)\n",
    "    2. Cross validate hyper-parameters\n",
    "    3. Use embeddings of greater dimensionality\n",
    "    4. Use GPU accelleration\n",
    "    5. Investigate other architectures"
   ]
  },
  {
   "cell_type": "code",
   "execution_count": null,
   "metadata": {},
   "outputs": [],
   "source": []
  }
 ],
 "metadata": {
  "kernelspec": {
   "display_name": "Python (feedstock)",
   "language": "python",
   "name": "feedstock"
  },
  "language_info": {
   "codemirror_mode": {
    "name": "ipython",
    "version": 3
   },
   "file_extension": ".py",
   "mimetype": "text/x-python",
   "name": "python",
   "nbconvert_exporter": "python",
   "pygments_lexer": "ipython3",
   "version": "3.6.6"
  }
 },
 "nbformat": 4,
 "nbformat_minor": 2
}
